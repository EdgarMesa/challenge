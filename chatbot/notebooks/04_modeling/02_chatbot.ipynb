{
 "cells": [
  {
   "cell_type": "code",
   "execution_count": null,
   "metadata": {},
   "outputs": [
    {
     "name": "stdout",
     "output_type": "stream",
     "text": [
      "The autoreload extension is already loaded. To reload it, use:\n",
      "  %reload_ext autoreload\n"
     ]
    },
    {
     "data": {
      "text/plain": [
       "True"
      ]
     },
     "execution_count": 13,
     "metadata": {},
     "output_type": "execute_result"
    }
   ],
   "source": [
    "%load_ext autoreload\n",
    "%autoreload 2\n",
    "\n",
    "import os\n",
    "import sys\n",
    "from pprint import pprint\n",
    "from dotenv import load_dotenv\n",
    "from tqdm import tqdm\n",
    "from pathlib import Path\n",
    "\n",
    "from langchain_core.messages import (\n",
    "    SystemMessage,\n",
    "    HumanMessage,\n",
    "    AIMessage,\n",
    "    RemoveMessage,\n",
    "    ToolMessage\n",
    ")\n",
    "\n",
    "\n",
    "root_dir = Path(os.getcwd()).parent.parent\n",
    "sys.path.insert(0, str(root_dir))\n"
   ]
  },
  {
   "cell_type": "code",
   "execution_count": null,
   "metadata": {},
   "outputs": [],
   "source": [
    "from src.d01_data.graph import graph\n",
    "\n",
    "raw_path = root_dir / 'data' / '01_raw'\n",
    "intermediate_path = root_dir / 'data' / '02_intermediate'\n",
    "memories_path = root_dir / 'data' / '03_memories'\n",
    "output_path = root_dir / 'data' / '04_model_output'"
   ]
  },
  {
   "cell_type": "code",
   "execution_count": null,
   "metadata": {},
   "outputs": [],
   "source": [
    "# import sqlite3\n",
    "# from src.d01_data.data import create_usuarios_table, get_user_info, upsert_user\n",
    "\n",
    "# long_term_db_path = memories_path / 'long_term_memory.db'\n",
    "# long_term_db_conn = sqlite3.connect(str(long_term_db_path), check_same_thread=False)\n",
    "# create_usuarios_table(long_term_db_conn)\n",
    "\n",
    "# # Example usage:\n",
    "# user_info = get_user_info(long_term_db_conn, 3)\n",
    "# print(\"User Info:\", user_info)"
   ]
  },
  {
   "cell_type": "code",
   "execution_count": null,
   "metadata": {},
   "outputs": [],
   "source": [
    "# graph"
   ]
  },
  {
   "cell_type": "code",
   "execution_count": null,
   "metadata": {},
   "outputs": [
    {
     "name": "stdout",
     "output_type": "stream",
     "text": [
      "==================================\u001b[1m Ai Message \u001b[0m==================================\n",
      "\n",
      "Puedo ayudarte a buscar documentos legales en la base de datos legal española. Proporciona una consulta en lenguaje natural y puedo buscar documentos relevantes del Código Civil, Código Penal o la Constitución Española. También puedes controlar el equilibrio entre la búsqueda de palabras clave y la búsqueda semántica utilizando el parámetro alfa.\n",
      "=================================\u001b[1m Tool Message \u001b[0m=================================\n",
      "\n",
      "No hay nuevos datos personales que actualizar para el usuario 6\n",
      "==================================\u001b[1m Ai Message \u001b[0m==================================\n",
      "Tool Calls:\n",
      "  consult_legal_database (28d20366-cd25-434b-85b2-11e9137e5fdf)\n",
      " Call ID: 28d20366-cd25-434b-85b2-11e9137e5fdf\n",
      "  Args:\n",
      "    filter: {'origen': {'$in': ['Constitucion Española']}}\n",
      "    query: articulo 65 de la constitucion española\n",
      "    alpha: 0.1\n",
      "=================================\u001b[1m Tool Message \u001b[0m=================================\n",
      "Name: consult_legal_database\n",
      "\n",
      "Información de la base de datos sobre la query del usuario:\n",
      "ranking: 2\n",
      "puntuacion: 0.53\n",
      "text: Constitucion Española\n",
      "libro:SIN LIBRO\n",
      "titulo:TÍTULO II\n",
      "capitulo:SIN CAPÍTULO\n",
      "seccion:SIN SECCION\n",
      "Artículo 56.  \n",
      "1. El Rey es el Jefe del Estado, símbolo de su unidad y permanencia, arbitra y modera el \n",
      "funcionamiento regular de las instituciones, asume la más alta representación del Estado \n",
      "español en las relaciones internacionales, especialmente con las naciones de su comunidad \n",
      "histórica, y ejerce las funciones que le atribuyen expresamente la Constitución y las leyes.\n",
      "2. Su título es el de Rey de España y podrá utilizar los demás que correspondan a la \n",
      "Corona.\n",
      "BOLETÍN OFICIAL DEL ESTADO\n",
      "LEGISLACIÓN CONSOLIDADA\n",
      "Página 12\n",
      "\n",
      "3. La persona del Rey es inviolable y no está sujeta a responsabilidad. Sus actos estarán \n",
      "siempre refrendados en la forma establecida en el artículo 64, careciendo de validez sin \n",
      "dicho refrendo, salvo lo dispuesto en el artículo 65, 2.\n",
      "---------------------------------------------\n",
      "ranking: 1\n",
      "puntuacion: 1.0\n",
      "text: Constitucion Española\n",
      "libro:SIN LIBRO\n",
      "titulo:TÍTULO II\n",
      "capitulo:SIN CAPÍTULO\n",
      "seccion:SIN SECCION\n",
      "Artículo 65.  \n",
      "1. El Rey recibe de los Presupuestos del Estado una cantidad global para el \n",
      "sostenimiento de su Familia y Casa, y distribuye libremente la misma.\n",
      "2. El Rey nombra y releva libremente a los miembros civiles y militares de su Casa.\n",
      "TÍTULO III\n",
      "De las Cortes Generales\n",
      "CAPÍTULO PRIMERO\n",
      "De las Cámaras\n",
      "---------------------------------------------\n",
      "==================================\u001b[1m Ai Message \u001b[0m==================================\n",
      "\n",
      "El Artículo 65 de la Constitución Española establece:\n",
      "\n",
      "1.  El Rey recibe de los Presupuestos del Estado una cantidad global para el sostenimiento de su Familia y Casa, y distribuye libremente la misma.\n",
      "2.  El Rey nombra y releva libremente a los miembros civiles y militares de su Casa.\n",
      "=================================\u001b[1m Tool Message \u001b[0m=================================\n",
      "\n",
      "No hay nuevos datos personales que actualizar para el usuario 6\n",
      "Exiting the conversation. Goodbye!\n"
     ]
    }
   ],
   "source": [
    "user_id = 367\n",
    "config = {'configurable': {'thread_id': str(user_id), 'user_id':str(user_id)}}\n",
    "\n",
    "while True:\n",
    "    user_input = input('Enter your message (type \"quit\" to exit): ')\n",
    "    if user_input.lower() == 'quit':\n",
    "        print('Exiting the conversation. Goodbye!')\n",
    "        break\n",
    "    \n",
    "    input_message = HumanMessage(content=user_input)\n",
    "    outputs = graph.invoke({'messages': [input_message]}, config, stream_mode='updates')\n",
    "    \n",
    "    for out in outputs:\n",
    "        node_name = list(out.keys())[0]\n",
    "        \n",
    "        if isinstance(out[node_name]['messages'], list):\n",
    "            for mess in out[node_name]['messages']:\n",
    "                mess.pretty_print()\n",
    "        else:\n",
    "            out[node_name]['messages'].pretty_print()\n"
   ]
  },
  {
   "cell_type": "code",
   "execution_count": 14,
   "metadata": {},
   "outputs": [
    {
     "name": "stdout",
     "output_type": "stream",
     "text": [
      "==================================\u001b[1m Ai Message \u001b[0m==================================\n",
      "\n",
      "No sé cómo te llamas. No tengo acceso a información personal.\n",
      "=================================\u001b[1m Tool Message \u001b[0m=================================\n",
      "\n",
      "No hay nuevos datos personales que actualizar para el usuario 1\n"
     ]
    }
   ],
   "source": [
    "for out in outputs:\n",
    "        node_name = list(out.keys())[0]\n",
    "        \n",
    "        if isinstance(out[node_name]['messages'], list):\n",
    "            for mess in out[node_name]['messages']:\n",
    "                mess.pretty_print()\n",
    "        else:\n",
    "            out[node_name]['messages'].pretty_print()"
   ]
  },
  {
   "cell_type": "code",
   "execution_count": 13,
   "metadata": {},
   "outputs": [
    {
     "data": {
      "text/plain": [
       "[{'conversation': {'messages': AIMessage(content='No sé cómo te llamas. No tengo acceso a información personal.', additional_kwargs={}, response_metadata={'prompt_feedback': {'block_reason': 0, 'safety_ratings': []}, 'finish_reason': 'STOP', 'safety_ratings': []}, id='run-e2f5c12b-7e82-421f-8244-44050cc1c27d-0', usage_metadata={'input_tokens': 539, 'output_tokens': 13, 'total_tokens': 552, 'input_token_details': {'cache_read': 0}})}},\n",
       " {'update_memory': {'messages': [ToolMessage(content='No hay nuevos datos personales que actualizar para el usuario 1', id='0b3b85b4-2127-4de8-a578-e6a07b7056e9', tool_call_id='67438012-42fb-475c-97cc-c78c4fa60f84')]}}]"
      ]
     },
     "execution_count": 13,
     "metadata": {},
     "output_type": "execute_result"
    }
   ],
   "source": [
    "outputs"
   ]
  },
  {
   "cell_type": "code",
   "execution_count": 99,
   "metadata": {},
   "outputs": [],
   "source": [
    "from src.d00_utils.utils import parse_graph_output"
   ]
  },
  {
   "cell_type": "code",
   "execution_count": 108,
   "metadata": {},
   "outputs": [
    {
     "name": "stdout",
     "output_type": "stream",
     "text": [
      "content='Lo siento, no he podido encontrar el artículo 2 del Código Civil. La búsqueda me ha devuelto otros artículos pero no el que solicitaste. ¿Puedo ayudarte con alguna otra cosa?' additional_kwargs={} response_metadata={'prompt_feedback': {'block_reason': 0, 'safety_ratings': []}, 'finish_reason': 'STOP', 'safety_ratings': []} id='run-80404c55-56df-4014-89b9-25cc5c1c09f1-0' usage_metadata={'input_tokens': 3573, 'output_tokens': 38, 'total_tokens': 3611, 'input_token_details': {'cache_read': 0}}\n"
     ]
    }
   ],
   "source": [
    "tmp = parse_graph_output(outputs, debug=True)"
   ]
  },
  {
   "cell_type": "code",
   "execution_count": 110,
   "metadata": {},
   "outputs": [],
   "source": [
    "formatted_messages = []\n",
    "for tag, content in tmp:\n",
    "    # escaped_content = html.escape(content)\n",
    "    if tag in ['fn', 'tool']:\n",
    "        # Wrap messages in green text\n",
    "        formatted_messages.append(f\"<span style='color: green;'>{content}</span>\")\n",
    "    else:\n",
    "        formatted_messages.append(content)"
   ]
  },
  {
   "cell_type": "code",
   "execution_count": null,
   "metadata": {},
   "outputs": [],
   "source": [
    "for t in formatted_messages:\n",
    "    print(t)"
   ]
  },
  {
   "cell_type": "code",
   "execution_count": 58,
   "metadata": {},
   "outputs": [
    {
     "name": "stdout",
     "output_type": "stream",
     "text": [
      "StateSnapshot(values={'messages': [HumanMessage(content='Sabes como me llamo?', additional_kwargs={}, response_metadata={}, id='05ec9be9-bb95-42d3-9edf-9beec7a8a184'), AIMessage(content='No te conozco, no sé cómo te llamas.', additional_kwargs={}, response_metadata={'prompt_feedback': {'block_reason': 0, 'safety_ratings': []}, 'finish_reason': 'STOP', 'safety_ratings': []}, id='run-f2eb9e5b-5196-4aef-b99b-e50962a9d260-0', usage_metadata={'input_tokens': 806, 'output_tokens': 10, 'total_tokens': 816, 'input_token_details': {'cache_read': 0}}), HumanMessage(content='Me llamo Edgar para que lo sepas', additional_kwargs={}, response_metadata={}, id='dea8a0c5-5c3a-49c2-a177-9269fcbda933'), AIMessage(content='Gracias, Edgar. Es un placer conocerte.', additional_kwargs={}, response_metadata={'prompt_feedback': {'block_reason': 0, 'safety_ratings': []}, 'finish_reason': 'STOP', 'safety_ratings': []}, id='run-afb0d8b3-1c87-4409-b10e-15626e854777-0', usage_metadata={'input_tokens': 824, 'output_tokens': 11, 'total_tokens': 835, 'input_token_details': {'cache_read': 0}}), HumanMessage(content='En que me puedes ayudar?', additional_kwargs={}, response_metadata={}, id='aa6e181b-0052-4bcd-a85e-a65fdb5b832f'), AIMessage(content='Puedo ayudarte a buscar información legal en la base de datos de legislación española. Dime, ¿qué te interesa? Por ejemplo, podrías preguntarme sobre el Código Civil, el Código Penal o la Constitución Española.', additional_kwargs={}, response_metadata={'prompt_feedback': {'block_reason': 0, 'safety_ratings': []}, 'finish_reason': 'STOP', 'safety_ratings': []}, id='run-80cba889-deca-4502-83d7-e2376b4965f9-0', usage_metadata={'input_tokens': 840, 'output_tokens': 43, 'total_tokens': 883, 'input_token_details': {'cache_read': 0}}), HumanMessage(content='dame informacion sobre el articulo 49 de la constitucion española', additional_kwargs={}, response_metadata={}, id='dc7aac44-9bb1-42a0-9e95-2ddc62679357'), AIMessage(content='', additional_kwargs={'function_call': {'name': 'consult_legal_database', 'arguments': '{\"filter\": {\"origen\": {\"$in\": [\"Constitucion Espa\\\\u00f1ola\"]}}, \"query\": \"articulo 49 constitucion espa\\\\u00f1ola\", \"alpha\": 0.1}'}}, response_metadata={'prompt_feedback': {'block_reason': 0, 'safety_ratings': []}, 'finish_reason': 'STOP', 'safety_ratings': []}, id='run-8b035cc0-ad8a-4773-97e1-2320649ebea0-0', tool_calls=[{'name': 'consult_legal_database', 'args': {'filter': {'origen': {'$in': ['Constitucion Española']}}, 'query': 'articulo 49 constitucion española', 'alpha': 0.1}, 'id': '9fb54d4b-5364-40a4-8789-22e0e80104da', 'type': 'tool_call'}], usage_metadata={'input_tokens': 895, 'output_tokens': 21, 'total_tokens': 916, 'input_token_details': {'cache_read': 0}}), ToolMessage(content='Información de la base de datos sobre la query del usuario:\\nranking: 4\\npuntuacion: 0.59\\ntext: Constitucion Española\\nlibro:SIN LIBRO\\ntitulo:TÍTULO I\\ncapitulo:CAPÍTULO TERCERO\\nseccion:SIN SECCION\\nArtículo 48.  \\nLos poderes públicos promoverán las condiciones para la participación libre y eficaz de \\nla juventud en el desarrollo político, social, económico y cultural.\\n---------------------------------------------\\nranking: 3\\npuntuacion: 0.62\\ntext: Constitucion Española\\nlibro:SIN LIBRO\\ntitulo:TÍTULO PRELIMINAR\\ncapitulo:SIN CAPÍTULO\\nseccion:SIN SECCION\\nArtículo 1.  \\n1. España se constituye en un Estado social y democrático de Derecho, que propugna \\ncomo valores superiores de su ordenamiento jurídico la libertad, la justicia, la igualdad y el \\npluralismo político.\\n2. La soberanía nacional reside en el pueblo español, del que emanan los poderes del \\nEstado.\\n3. La forma política del Estado español es la Monarquía parlamentaria.\\n---------------------------------------------\\nranking: 2\\npuntuacion: 0.92\\ntext: Constitucion Española\\nlibro:SIN LIBRO\\ntitulo:TÍTULO I\\ncapitulo:CAPÍTULO TERCERO\\nseccion:SIN SECCION\\nArtículo 44.  \\n1. Los poderes públicos promoverán y tutelarán el acceso a la cultura, a la que todos \\ntienen derecho.\\n2. Los poderes públicos promoverán la ciencia y la investigación científica y técnica en \\nbeneficio del interés general.\\n---------------------------------------------\\nranking: 1\\npuntuacion: 0.99\\ntext: Constitucion Española\\nlibro:SIN LIBRO\\ntitulo:TÍTULO I\\ncapitulo:CAPÍTULO TERCERO\\nseccion:SIN SECCION\\nArtículo 49.  \\n1. Las personas con discapacidad ejercen los derechos previstos en este Título en \\ncondiciones de libertad e igualdad reales y efectivas. Se regulará por ley la protección \\nespecial que sea necesaria para dicho ejercicio.\\n2. Los poderes públicos impulsarán las políticas que garanticen la plena autonomía \\npersonal y la inclusión social de las personas con discapacidad, en entornos universalmente \\naccesibles. Asimismo, fomentarán la participación de sus organizaciones, en los términos \\nque la ley establezca. Se atenderán particularmente las necesidades específicas de las \\nmujeres y los menores con discapacidad.\\n---------------------------------------------', name='consult_legal_database', id='42a3d1ff-e2a6-4205-bed7-cc8e974f369a', tool_call_id='9fb54d4b-5364-40a4-8789-22e0e80104da'), AIMessage(content='El Artículo 49 de la Constitución Española dice:\\n\\n\"1. Las personas con discapacidad ejercen los derechos previstos en este Título en condiciones de libertad e igualdad reales y efectivas. Se regulará por ley la protección especial que sea necesaria para dicho ejercicio.\\n\\n2. Los poderes públicos impulsarán las políticas que garanticen la plena autonomía personal y la inclusión social de las personas con discapacidad, en entornos universalmente accesibles. Asimismo, fomentarán la participación de sus organizaciones, en los términos que la ley establezca. Se atenderán particularmente las necesidades específicas de las mujeres y los menores con discapacidad.\"', additional_kwargs={}, response_metadata={'prompt_feedback': {'block_reason': 0, 'safety_ratings': []}, 'finish_reason': 'STOP', 'safety_ratings': []}, id='run-3110b684-4cbf-48a7-ad76-b121adf120b4-0', usage_metadata={'input_tokens': 1463, 'output_tokens': 124, 'total_tokens': 1587, 'input_token_details': {'cache_read': 0}}), HumanMessage(content='me podrias ahora dar el mismo numero de articulo en el codigo civil y en el codigo penal?', additional_kwargs={}, response_metadata={}, id='1207a68c-7335-454f-8d02-b17b71ad3da5'), AIMessage(content='', additional_kwargs={'function_call': {'name': 'consult_legal_database', 'arguments': '{\"filter\": {\"origen\": {\"$in\": [\"C\\\\u00f3digo Penal\"]}}, \"query\": \"articulo 49 codigo penal\", \"alpha\": 0.1}'}}, response_metadata={'prompt_feedback': {'block_reason': 0, 'safety_ratings': []}, 'finish_reason': 'STOP', 'safety_ratings': []}, id='run-56c62f34-c354-447d-bed4-6b11de9320fe-0', tool_calls=[{'name': 'consult_legal_database', 'args': {'filter': {'origen': {'$in': ['Código Civil']}}, 'query': 'articulo 49 codigo civil', 'alpha': 0.1}, 'id': '2cf56be2-524a-4525-a918-641868d6fbc3', 'type': 'tool_call'}, {'name': 'consult_legal_database', 'args': {'filter': {'origen': {'$in': ['Código Penal']}}, 'query': 'articulo 49 codigo penal', 'alpha': 0.1}, 'id': '076ebcb1-a134-41cd-88ba-13d106c42d0b', 'type': 'tool_call'}], usage_metadata={'input_tokens': 1607, 'output_tokens': 38, 'total_tokens': 1645, 'input_token_details': {'cache_read': 0}}), ToolMessage(content='Información de la base de datos sobre la query del usuario:\\nranking: 1\\npuntuacion: 0.99\\ntext: Código Civil\\nlibro:LIBRO PRIMERO\\ntitulo:TÍTULO IV\\ncapitulo:CAPÍTULO III\\nseccion:SECCIÓN 1\\nArtículo 49.  \\nCualquier español podrá contraer matrimonio dentro o fuera de España:\\n1.º En la forma regulada en este Código.\\n2.º En la forma religiosa legalmente prevista.\\nTambién podrá contraer matrimonio fuera de España con arreglo a la forma establecida \\npor la ley del lugar de celebración.\\n---------------------------------------------', name='consult_legal_database', id='9a70a517-d4e8-4c14-9f58-5b7ede9d9b5f', tool_call_id='2cf56be2-524a-4525-a918-641868d6fbc3'), ToolMessage(content='No hay información relevante a la query del usuario en la base de datos', name='consult_legal_database', id='56d9c49e-e33b-45cd-b241-f0c938382369', tool_call_id='076ebcb1-a134-41cd-88ba-13d106c42d0b'), AIMessage(content='El artículo 49 del Código Civil dice: \"Cualquier español podrá contraer matrimonio dentro o fuera de España: 1.º En la forma regulada en este Código. 2.º En la forma religiosa legalmente prevista. También podrá contraer matrimonio fuera de España con arreglo a la forma establecida por la ley del lugar de celebración.\"\\n\\nNo encontré información sobre el artículo 49 en el Código Penal.', additional_kwargs={}, response_metadata={'prompt_feedback': {'block_reason': 0, 'safety_ratings': []}, 'finish_reason': 'STOP', 'safety_ratings': []}, id='run-753bb809-13af-4da5-8530-5adeb539cb2c-0', usage_metadata={'input_tokens': 1806, 'output_tokens': 88, 'total_tokens': 1894, 'input_token_details': {'cache_read': 0}})]}, next=(), config={'configurable': {'thread_id': '1', 'checkpoint_ns': '', 'checkpoint_id': '1effc410-35ea-6b58-8011-c6a5ec399bde'}}, metadata={'source': 'loop', 'writes': {'conversation': {'messages': AIMessage(content='El artículo 49 del Código Civil dice: \"Cualquier español podrá contraer matrimonio dentro o fuera de España: 1.º En la forma regulada en este Código. 2.º En la forma religiosa legalmente prevista. También podrá contraer matrimonio fuera de España con arreglo a la forma establecida por la ley del lugar de celebración.\"\\n\\nNo encontré información sobre el artículo 49 en el Código Penal.', additional_kwargs={}, response_metadata={'prompt_feedback': {'block_reason': 0, 'safety_ratings': []}, 'finish_reason': 'STOP', 'safety_ratings': []}, id='run-753bb809-13af-4da5-8530-5adeb539cb2c-0', usage_metadata={'input_tokens': 1806, 'output_tokens': 88, 'total_tokens': 1894, 'input_token_details': {'cache_read': 0}})}}, 'thread_id': '1', 'step': 17, 'parents': {}}, created_at='2025-03-08T17:16:03.138440+00:00', parent_config={'configurable': {'thread_id': '1', 'checkpoint_ns': '', 'checkpoint_id': '1effc410-2c93-6ded-8010-948e3bb36d98'}}, tasks=())\n"
     ]
    }
   ],
   "source": [
    "config = {'configurable': {'thread_id': '1'}}\n",
    "graph_state = graph.get_state(config)\n",
    "print(graph_state)"
   ]
  },
  {
   "cell_type": "code",
   "execution_count": 59,
   "metadata": {},
   "outputs": [
    {
     "data": {
      "text/plain": [
       "StateSnapshot(values={'messages': [HumanMessage(content='Sabes como me llamo?', additional_kwargs={}, response_metadata={}, id='05ec9be9-bb95-42d3-9edf-9beec7a8a184'), AIMessage(content='No te conozco, no sé cómo te llamas.', additional_kwargs={}, response_metadata={'prompt_feedback': {'block_reason': 0, 'safety_ratings': []}, 'finish_reason': 'STOP', 'safety_ratings': []}, id='run-f2eb9e5b-5196-4aef-b99b-e50962a9d260-0', usage_metadata={'input_tokens': 806, 'output_tokens': 10, 'total_tokens': 816, 'input_token_details': {'cache_read': 0}}), HumanMessage(content='Me llamo Edgar para que lo sepas', additional_kwargs={}, response_metadata={}, id='dea8a0c5-5c3a-49c2-a177-9269fcbda933'), AIMessage(content='Gracias, Edgar. Es un placer conocerte.', additional_kwargs={}, response_metadata={'prompt_feedback': {'block_reason': 0, 'safety_ratings': []}, 'finish_reason': 'STOP', 'safety_ratings': []}, id='run-afb0d8b3-1c87-4409-b10e-15626e854777-0', usage_metadata={'input_tokens': 824, 'output_tokens': 11, 'total_tokens': 835, 'input_token_details': {'cache_read': 0}}), HumanMessage(content='En que me puedes ayudar?', additional_kwargs={}, response_metadata={}, id='aa6e181b-0052-4bcd-a85e-a65fdb5b832f'), AIMessage(content='Puedo ayudarte a buscar información legal en la base de datos de legislación española. Dime, ¿qué te interesa? Por ejemplo, podrías preguntarme sobre el Código Civil, el Código Penal o la Constitución Española.', additional_kwargs={}, response_metadata={'prompt_feedback': {'block_reason': 0, 'safety_ratings': []}, 'finish_reason': 'STOP', 'safety_ratings': []}, id='run-80cba889-deca-4502-83d7-e2376b4965f9-0', usage_metadata={'input_tokens': 840, 'output_tokens': 43, 'total_tokens': 883, 'input_token_details': {'cache_read': 0}}), HumanMessage(content='dame informacion sobre el articulo 49 de la constitucion española', additional_kwargs={}, response_metadata={}, id='dc7aac44-9bb1-42a0-9e95-2ddc62679357'), AIMessage(content='', additional_kwargs={'function_call': {'name': 'consult_legal_database', 'arguments': '{\"filter\": {\"origen\": {\"$in\": [\"Constitucion Espa\\\\u00f1ola\"]}}, \"query\": \"articulo 49 constitucion espa\\\\u00f1ola\", \"alpha\": 0.1}'}}, response_metadata={'prompt_feedback': {'block_reason': 0, 'safety_ratings': []}, 'finish_reason': 'STOP', 'safety_ratings': []}, id='run-8b035cc0-ad8a-4773-97e1-2320649ebea0-0', tool_calls=[{'name': 'consult_legal_database', 'args': {'filter': {'origen': {'$in': ['Constitucion Española']}}, 'query': 'articulo 49 constitucion española', 'alpha': 0.1}, 'id': '9fb54d4b-5364-40a4-8789-22e0e80104da', 'type': 'tool_call'}], usage_metadata={'input_tokens': 895, 'output_tokens': 21, 'total_tokens': 916, 'input_token_details': {'cache_read': 0}}), ToolMessage(content='Información de la base de datos sobre la query del usuario:\\nranking: 4\\npuntuacion: 0.59\\ntext: Constitucion Española\\nlibro:SIN LIBRO\\ntitulo:TÍTULO I\\ncapitulo:CAPÍTULO TERCERO\\nseccion:SIN SECCION\\nArtículo 48.  \\nLos poderes públicos promoverán las condiciones para la participación libre y eficaz de \\nla juventud en el desarrollo político, social, económico y cultural.\\n---------------------------------------------\\nranking: 3\\npuntuacion: 0.62\\ntext: Constitucion Española\\nlibro:SIN LIBRO\\ntitulo:TÍTULO PRELIMINAR\\ncapitulo:SIN CAPÍTULO\\nseccion:SIN SECCION\\nArtículo 1.  \\n1. España se constituye en un Estado social y democrático de Derecho, que propugna \\ncomo valores superiores de su ordenamiento jurídico la libertad, la justicia, la igualdad y el \\npluralismo político.\\n2. La soberanía nacional reside en el pueblo español, del que emanan los poderes del \\nEstado.\\n3. La forma política del Estado español es la Monarquía parlamentaria.\\n---------------------------------------------\\nranking: 2\\npuntuacion: 0.92\\ntext: Constitucion Española\\nlibro:SIN LIBRO\\ntitulo:TÍTULO I\\ncapitulo:CAPÍTULO TERCERO\\nseccion:SIN SECCION\\nArtículo 44.  \\n1. Los poderes públicos promoverán y tutelarán el acceso a la cultura, a la que todos \\ntienen derecho.\\n2. Los poderes públicos promoverán la ciencia y la investigación científica y técnica en \\nbeneficio del interés general.\\n---------------------------------------------\\nranking: 1\\npuntuacion: 0.99\\ntext: Constitucion Española\\nlibro:SIN LIBRO\\ntitulo:TÍTULO I\\ncapitulo:CAPÍTULO TERCERO\\nseccion:SIN SECCION\\nArtículo 49.  \\n1. Las personas con discapacidad ejercen los derechos previstos en este Título en \\ncondiciones de libertad e igualdad reales y efectivas. Se regulará por ley la protección \\nespecial que sea necesaria para dicho ejercicio.\\n2. Los poderes públicos impulsarán las políticas que garanticen la plena autonomía \\npersonal y la inclusión social de las personas con discapacidad, en entornos universalmente \\naccesibles. Asimismo, fomentarán la participación de sus organizaciones, en los términos \\nque la ley establezca. Se atenderán particularmente las necesidades específicas de las \\nmujeres y los menores con discapacidad.\\n---------------------------------------------', name='consult_legal_database', id='42a3d1ff-e2a6-4205-bed7-cc8e974f369a', tool_call_id='9fb54d4b-5364-40a4-8789-22e0e80104da'), AIMessage(content='El Artículo 49 de la Constitución Española dice:\\n\\n\"1. Las personas con discapacidad ejercen los derechos previstos en este Título en condiciones de libertad e igualdad reales y efectivas. Se regulará por ley la protección especial que sea necesaria para dicho ejercicio.\\n\\n2. Los poderes públicos impulsarán las políticas que garanticen la plena autonomía personal y la inclusión social de las personas con discapacidad, en entornos universalmente accesibles. Asimismo, fomentarán la participación de sus organizaciones, en los términos que la ley establezca. Se atenderán particularmente las necesidades específicas de las mujeres y los menores con discapacidad.\"', additional_kwargs={}, response_metadata={'prompt_feedback': {'block_reason': 0, 'safety_ratings': []}, 'finish_reason': 'STOP', 'safety_ratings': []}, id='run-3110b684-4cbf-48a7-ad76-b121adf120b4-0', usage_metadata={'input_tokens': 1463, 'output_tokens': 124, 'total_tokens': 1587, 'input_token_details': {'cache_read': 0}}), HumanMessage(content='me podrias ahora dar el mismo numero de articulo en el codigo civil y en el codigo penal?', additional_kwargs={}, response_metadata={}, id='1207a68c-7335-454f-8d02-b17b71ad3da5'), AIMessage(content='', additional_kwargs={'function_call': {'name': 'consult_legal_database', 'arguments': '{\"filter\": {\"origen\": {\"$in\": [\"C\\\\u00f3digo Penal\"]}}, \"query\": \"articulo 49 codigo penal\", \"alpha\": 0.1}'}}, response_metadata={'prompt_feedback': {'block_reason': 0, 'safety_ratings': []}, 'finish_reason': 'STOP', 'safety_ratings': []}, id='run-56c62f34-c354-447d-bed4-6b11de9320fe-0', tool_calls=[{'name': 'consult_legal_database', 'args': {'filter': {'origen': {'$in': ['Código Civil']}}, 'query': 'articulo 49 codigo civil', 'alpha': 0.1}, 'id': '2cf56be2-524a-4525-a918-641868d6fbc3', 'type': 'tool_call'}, {'name': 'consult_legal_database', 'args': {'filter': {'origen': {'$in': ['Código Penal']}}, 'query': 'articulo 49 codigo penal', 'alpha': 0.1}, 'id': '076ebcb1-a134-41cd-88ba-13d106c42d0b', 'type': 'tool_call'}], usage_metadata={'input_tokens': 1607, 'output_tokens': 38, 'total_tokens': 1645, 'input_token_details': {'cache_read': 0}}), ToolMessage(content='Información de la base de datos sobre la query del usuario:\\nranking: 1\\npuntuacion: 0.99\\ntext: Código Civil\\nlibro:LIBRO PRIMERO\\ntitulo:TÍTULO IV\\ncapitulo:CAPÍTULO III\\nseccion:SECCIÓN 1\\nArtículo 49.  \\nCualquier español podrá contraer matrimonio dentro o fuera de España:\\n1.º En la forma regulada en este Código.\\n2.º En la forma religiosa legalmente prevista.\\nTambién podrá contraer matrimonio fuera de España con arreglo a la forma establecida \\npor la ley del lugar de celebración.\\n---------------------------------------------', name='consult_legal_database', id='9a70a517-d4e8-4c14-9f58-5b7ede9d9b5f', tool_call_id='2cf56be2-524a-4525-a918-641868d6fbc3'), ToolMessage(content='No hay información relevante a la query del usuario en la base de datos', name='consult_legal_database', id='56d9c49e-e33b-45cd-b241-f0c938382369', tool_call_id='076ebcb1-a134-41cd-88ba-13d106c42d0b'), AIMessage(content='El artículo 49 del Código Civil dice: \"Cualquier español podrá contraer matrimonio dentro o fuera de España: 1.º En la forma regulada en este Código. 2.º En la forma religiosa legalmente prevista. También podrá contraer matrimonio fuera de España con arreglo a la forma establecida por la ley del lugar de celebración.\"\\n\\nNo encontré información sobre el artículo 49 en el Código Penal.', additional_kwargs={}, response_metadata={'prompt_feedback': {'block_reason': 0, 'safety_ratings': []}, 'finish_reason': 'STOP', 'safety_ratings': []}, id='run-753bb809-13af-4da5-8530-5adeb539cb2c-0', usage_metadata={'input_tokens': 1806, 'output_tokens': 88, 'total_tokens': 1894, 'input_token_details': {'cache_read': 0}})]}, next=(), config={'configurable': {'thread_id': '1', 'checkpoint_ns': '', 'checkpoint_id': '1effc410-35ea-6b58-8011-c6a5ec399bde'}}, metadata={'source': 'loop', 'writes': {'conversation': {'messages': AIMessage(content='El artículo 49 del Código Civil dice: \"Cualquier español podrá contraer matrimonio dentro o fuera de España: 1.º En la forma regulada en este Código. 2.º En la forma religiosa legalmente prevista. También podrá contraer matrimonio fuera de España con arreglo a la forma establecida por la ley del lugar de celebración.\"\\n\\nNo encontré información sobre el artículo 49 en el Código Penal.', additional_kwargs={}, response_metadata={'prompt_feedback': {'block_reason': 0, 'safety_ratings': []}, 'finish_reason': 'STOP', 'safety_ratings': []}, id='run-753bb809-13af-4da5-8530-5adeb539cb2c-0', usage_metadata={'input_tokens': 1806, 'output_tokens': 88, 'total_tokens': 1894, 'input_token_details': {'cache_read': 0}})}}, 'thread_id': '1', 'step': 17, 'parents': {}}, created_at='2025-03-08T17:16:03.138440+00:00', parent_config={'configurable': {'thread_id': '1', 'checkpoint_ns': '', 'checkpoint_id': '1effc410-2c93-6ded-8010-948e3bb36d98'}}, tasks=())"
      ]
     },
     "execution_count": 59,
     "metadata": {},
     "output_type": "execute_result"
    }
   ],
   "source": [
    "graph_state"
   ]
  },
  {
   "cell_type": "code",
   "execution_count": 60,
   "metadata": {},
   "outputs": [
    {
     "data": {
      "text/plain": [
       "StateSnapshot(values={'messages': [HumanMessage(content='Sabes como me llamo?', additional_kwargs={}, response_metadata={}, id='05ec9be9-bb95-42d3-9edf-9beec7a8a184'), AIMessage(content='No te conozco, no sé cómo te llamas.', additional_kwargs={}, response_metadata={'prompt_feedback': {'block_reason': 0, 'safety_ratings': []}, 'finish_reason': 'STOP', 'safety_ratings': []}, id='run-f2eb9e5b-5196-4aef-b99b-e50962a9d260-0', usage_metadata={'input_tokens': 806, 'output_tokens': 10, 'total_tokens': 816, 'input_token_details': {'cache_read': 0}}), HumanMessage(content='Me llamo Edgar para que lo sepas', additional_kwargs={}, response_metadata={}, id='dea8a0c5-5c3a-49c2-a177-9269fcbda933'), AIMessage(content='Gracias, Edgar. Es un placer conocerte.', additional_kwargs={}, response_metadata={'prompt_feedback': {'block_reason': 0, 'safety_ratings': []}, 'finish_reason': 'STOP', 'safety_ratings': []}, id='run-afb0d8b3-1c87-4409-b10e-15626e854777-0', usage_metadata={'input_tokens': 824, 'output_tokens': 11, 'total_tokens': 835, 'input_token_details': {'cache_read': 0}}), HumanMessage(content='En que me puedes ayudar?', additional_kwargs={}, response_metadata={}, id='aa6e181b-0052-4bcd-a85e-a65fdb5b832f'), AIMessage(content='Puedo ayudarte a buscar información legal en la base de datos de legislación española. Dime, ¿qué te interesa? Por ejemplo, podrías preguntarme sobre el Código Civil, el Código Penal o la Constitución Española.', additional_kwargs={}, response_metadata={'prompt_feedback': {'block_reason': 0, 'safety_ratings': []}, 'finish_reason': 'STOP', 'safety_ratings': []}, id='run-80cba889-deca-4502-83d7-e2376b4965f9-0', usage_metadata={'input_tokens': 840, 'output_tokens': 43, 'total_tokens': 883, 'input_token_details': {'cache_read': 0}}), HumanMessage(content='dame informacion sobre el articulo 49 de la constitucion española', additional_kwargs={}, response_metadata={}, id='dc7aac44-9bb1-42a0-9e95-2ddc62679357'), AIMessage(content='', additional_kwargs={'function_call': {'name': 'consult_legal_database', 'arguments': '{\"filter\": {\"origen\": {\"$in\": [\"Constitucion Espa\\\\u00f1ola\"]}}, \"query\": \"articulo 49 constitucion espa\\\\u00f1ola\", \"alpha\": 0.1}'}}, response_metadata={'prompt_feedback': {'block_reason': 0, 'safety_ratings': []}, 'finish_reason': 'STOP', 'safety_ratings': []}, id='run-8b035cc0-ad8a-4773-97e1-2320649ebea0-0', tool_calls=[{'name': 'consult_legal_database', 'args': {'filter': {'origen': {'$in': ['Constitucion Española']}}, 'query': 'articulo 49 constitucion española', 'alpha': 0.1}, 'id': '9fb54d4b-5364-40a4-8789-22e0e80104da', 'type': 'tool_call'}], usage_metadata={'input_tokens': 895, 'output_tokens': 21, 'total_tokens': 916, 'input_token_details': {'cache_read': 0}}), ToolMessage(content='Información de la base de datos sobre la query del usuario:\\nranking: 4\\npuntuacion: 0.59\\ntext: Constitucion Española\\nlibro:SIN LIBRO\\ntitulo:TÍTULO I\\ncapitulo:CAPÍTULO TERCERO\\nseccion:SIN SECCION\\nArtículo 48.  \\nLos poderes públicos promoverán las condiciones para la participación libre y eficaz de \\nla juventud en el desarrollo político, social, económico y cultural.\\n---------------------------------------------\\nranking: 3\\npuntuacion: 0.62\\ntext: Constitucion Española\\nlibro:SIN LIBRO\\ntitulo:TÍTULO PRELIMINAR\\ncapitulo:SIN CAPÍTULO\\nseccion:SIN SECCION\\nArtículo 1.  \\n1. España se constituye en un Estado social y democrático de Derecho, que propugna \\ncomo valores superiores de su ordenamiento jurídico la libertad, la justicia, la igualdad y el \\npluralismo político.\\n2. La soberanía nacional reside en el pueblo español, del que emanan los poderes del \\nEstado.\\n3. La forma política del Estado español es la Monarquía parlamentaria.\\n---------------------------------------------\\nranking: 2\\npuntuacion: 0.92\\ntext: Constitucion Española\\nlibro:SIN LIBRO\\ntitulo:TÍTULO I\\ncapitulo:CAPÍTULO TERCERO\\nseccion:SIN SECCION\\nArtículo 44.  \\n1. Los poderes públicos promoverán y tutelarán el acceso a la cultura, a la que todos \\ntienen derecho.\\n2. Los poderes públicos promoverán la ciencia y la investigación científica y técnica en \\nbeneficio del interés general.\\n---------------------------------------------\\nranking: 1\\npuntuacion: 0.99\\ntext: Constitucion Española\\nlibro:SIN LIBRO\\ntitulo:TÍTULO I\\ncapitulo:CAPÍTULO TERCERO\\nseccion:SIN SECCION\\nArtículo 49.  \\n1. Las personas con discapacidad ejercen los derechos previstos en este Título en \\ncondiciones de libertad e igualdad reales y efectivas. Se regulará por ley la protección \\nespecial que sea necesaria para dicho ejercicio.\\n2. Los poderes públicos impulsarán las políticas que garanticen la plena autonomía \\npersonal y la inclusión social de las personas con discapacidad, en entornos universalmente \\naccesibles. Asimismo, fomentarán la participación de sus organizaciones, en los términos \\nque la ley establezca. Se atenderán particularmente las necesidades específicas de las \\nmujeres y los menores con discapacidad.\\n---------------------------------------------', name='consult_legal_database', id='42a3d1ff-e2a6-4205-bed7-cc8e974f369a', tool_call_id='9fb54d4b-5364-40a4-8789-22e0e80104da'), AIMessage(content='El Artículo 49 de la Constitución Española dice:\\n\\n\"1. Las personas con discapacidad ejercen los derechos previstos en este Título en condiciones de libertad e igualdad reales y efectivas. Se regulará por ley la protección especial que sea necesaria para dicho ejercicio.\\n\\n2. Los poderes públicos impulsarán las políticas que garanticen la plena autonomía personal y la inclusión social de las personas con discapacidad, en entornos universalmente accesibles. Asimismo, fomentarán la participación de sus organizaciones, en los términos que la ley establezca. Se atenderán particularmente las necesidades específicas de las mujeres y los menores con discapacidad.\"', additional_kwargs={}, response_metadata={'prompt_feedback': {'block_reason': 0, 'safety_ratings': []}, 'finish_reason': 'STOP', 'safety_ratings': []}, id='run-3110b684-4cbf-48a7-ad76-b121adf120b4-0', usage_metadata={'input_tokens': 1463, 'output_tokens': 124, 'total_tokens': 1587, 'input_token_details': {'cache_read': 0}}), HumanMessage(content='me podrias ahora dar el mismo numero de articulo en el codigo civil y en el codigo penal?', additional_kwargs={}, response_metadata={}, id='1207a68c-7335-454f-8d02-b17b71ad3da5'), AIMessage(content='', additional_kwargs={'function_call': {'name': 'consult_legal_database', 'arguments': '{\"filter\": {\"origen\": {\"$in\": [\"C\\\\u00f3digo Penal\"]}}, \"query\": \"articulo 49 codigo penal\", \"alpha\": 0.1}'}}, response_metadata={'prompt_feedback': {'block_reason': 0, 'safety_ratings': []}, 'finish_reason': 'STOP', 'safety_ratings': []}, id='run-56c62f34-c354-447d-bed4-6b11de9320fe-0', tool_calls=[{'name': 'consult_legal_database', 'args': {'filter': {'origen': {'$in': ['Código Civil']}}, 'query': 'articulo 49 codigo civil', 'alpha': 0.1}, 'id': '2cf56be2-524a-4525-a918-641868d6fbc3', 'type': 'tool_call'}, {'name': 'consult_legal_database', 'args': {'filter': {'origen': {'$in': ['Código Penal']}}, 'query': 'articulo 49 codigo penal', 'alpha': 0.1}, 'id': '076ebcb1-a134-41cd-88ba-13d106c42d0b', 'type': 'tool_call'}], usage_metadata={'input_tokens': 1607, 'output_tokens': 38, 'total_tokens': 1645, 'input_token_details': {'cache_read': 0}}), ToolMessage(content='Información de la base de datos sobre la query del usuario:\\nranking: 1\\npuntuacion: 0.99\\ntext: Código Civil\\nlibro:LIBRO PRIMERO\\ntitulo:TÍTULO IV\\ncapitulo:CAPÍTULO III\\nseccion:SECCIÓN 1\\nArtículo 49.  \\nCualquier español podrá contraer matrimonio dentro o fuera de España:\\n1.º En la forma regulada en este Código.\\n2.º En la forma religiosa legalmente prevista.\\nTambién podrá contraer matrimonio fuera de España con arreglo a la forma establecida \\npor la ley del lugar de celebración.\\n---------------------------------------------', name='consult_legal_database', id='9a70a517-d4e8-4c14-9f58-5b7ede9d9b5f', tool_call_id='2cf56be2-524a-4525-a918-641868d6fbc3'), ToolMessage(content='No hay información relevante a la query del usuario en la base de datos', name='consult_legal_database', id='56d9c49e-e33b-45cd-b241-f0c938382369', tool_call_id='076ebcb1-a134-41cd-88ba-13d106c42d0b'), AIMessage(content='El artículo 49 del Código Civil dice: \"Cualquier español podrá contraer matrimonio dentro o fuera de España: 1.º En la forma regulada en este Código. 2.º En la forma religiosa legalmente prevista. También podrá contraer matrimonio fuera de España con arreglo a la forma establecida por la ley del lugar de celebración.\"\\n\\nNo encontré información sobre el artículo 49 en el Código Penal.', additional_kwargs={}, response_metadata={'prompt_feedback': {'block_reason': 0, 'safety_ratings': []}, 'finish_reason': 'STOP', 'safety_ratings': []}, id='run-753bb809-13af-4da5-8530-5adeb539cb2c-0', usage_metadata={'input_tokens': 1806, 'output_tokens': 88, 'total_tokens': 1894, 'input_token_details': {'cache_read': 0}})]}, next=(), config={'configurable': {'thread_id': '1', 'checkpoint_ns': '', 'checkpoint_id': '1effc410-35ea-6b58-8011-c6a5ec399bde'}}, metadata={'source': 'loop', 'writes': {'conversation': {'messages': AIMessage(content='El artículo 49 del Código Civil dice: \"Cualquier español podrá contraer matrimonio dentro o fuera de España: 1.º En la forma regulada en este Código. 2.º En la forma religiosa legalmente prevista. También podrá contraer matrimonio fuera de España con arreglo a la forma establecida por la ley del lugar de celebración.\"\\n\\nNo encontré información sobre el artículo 49 en el Código Penal.', additional_kwargs={}, response_metadata={'prompt_feedback': {'block_reason': 0, 'safety_ratings': []}, 'finish_reason': 'STOP', 'safety_ratings': []}, id='run-753bb809-13af-4da5-8530-5adeb539cb2c-0', usage_metadata={'input_tokens': 1806, 'output_tokens': 88, 'total_tokens': 1894, 'input_token_details': {'cache_read': 0}})}}, 'thread_id': '1', 'step': 17, 'parents': {}}, created_at='2025-03-08T17:16:03.138440+00:00', parent_config={'configurable': {'thread_id': '1', 'checkpoint_ns': '', 'checkpoint_id': '1effc410-2c93-6ded-8010-948e3bb36d98'}}, tasks=())"
      ]
     },
     "execution_count": 60,
     "metadata": {},
     "output_type": "execute_result"
    }
   ],
   "source": [
    "graph_state"
   ]
  },
  {
   "cell_type": "code",
   "execution_count": 61,
   "metadata": {},
   "outputs": [
    {
     "data": {
      "text/plain": [
       "StateSnapshot(values={'messages': [HumanMessage(content='Sabes como me llamo?', additional_kwargs={}, response_metadata={}, id='05ec9be9-bb95-42d3-9edf-9beec7a8a184'), AIMessage(content='No te conozco, no sé cómo te llamas.', additional_kwargs={}, response_metadata={'prompt_feedback': {'block_reason': 0, 'safety_ratings': []}, 'finish_reason': 'STOP', 'safety_ratings': []}, id='run-f2eb9e5b-5196-4aef-b99b-e50962a9d260-0', usage_metadata={'input_tokens': 806, 'output_tokens': 10, 'total_tokens': 816, 'input_token_details': {'cache_read': 0}}), HumanMessage(content='Me llamo Edgar para que lo sepas', additional_kwargs={}, response_metadata={}, id='dea8a0c5-5c3a-49c2-a177-9269fcbda933'), AIMessage(content='Gracias, Edgar. Es un placer conocerte.', additional_kwargs={}, response_metadata={'prompt_feedback': {'block_reason': 0, 'safety_ratings': []}, 'finish_reason': 'STOP', 'safety_ratings': []}, id='run-afb0d8b3-1c87-4409-b10e-15626e854777-0', usage_metadata={'input_tokens': 824, 'output_tokens': 11, 'total_tokens': 835, 'input_token_details': {'cache_read': 0}}), HumanMessage(content='En que me puedes ayudar?', additional_kwargs={}, response_metadata={}, id='aa6e181b-0052-4bcd-a85e-a65fdb5b832f'), AIMessage(content='Puedo ayudarte a buscar información legal en la base de datos de legislación española. Dime, ¿qué te interesa? Por ejemplo, podrías preguntarme sobre el Código Civil, el Código Penal o la Constitución Española.', additional_kwargs={}, response_metadata={'prompt_feedback': {'block_reason': 0, 'safety_ratings': []}, 'finish_reason': 'STOP', 'safety_ratings': []}, id='run-80cba889-deca-4502-83d7-e2376b4965f9-0', usage_metadata={'input_tokens': 840, 'output_tokens': 43, 'total_tokens': 883, 'input_token_details': {'cache_read': 0}}), HumanMessage(content='dame informacion sobre el articulo 49 de la constitucion española', additional_kwargs={}, response_metadata={}, id='dc7aac44-9bb1-42a0-9e95-2ddc62679357'), AIMessage(content='', additional_kwargs={'function_call': {'name': 'consult_legal_database', 'arguments': '{\"filter\": {\"origen\": {\"$in\": [\"Constitucion Espa\\\\u00f1ola\"]}}, \"query\": \"articulo 49 constitucion espa\\\\u00f1ola\", \"alpha\": 0.1}'}}, response_metadata={'prompt_feedback': {'block_reason': 0, 'safety_ratings': []}, 'finish_reason': 'STOP', 'safety_ratings': []}, id='run-8b035cc0-ad8a-4773-97e1-2320649ebea0-0', tool_calls=[{'name': 'consult_legal_database', 'args': {'filter': {'origen': {'$in': ['Constitucion Española']}}, 'query': 'articulo 49 constitucion española', 'alpha': 0.1}, 'id': '9fb54d4b-5364-40a4-8789-22e0e80104da', 'type': 'tool_call'}], usage_metadata={'input_tokens': 895, 'output_tokens': 21, 'total_tokens': 916, 'input_token_details': {'cache_read': 0}}), ToolMessage(content='Información de la base de datos sobre la query del usuario:\\nranking: 4\\npuntuacion: 0.59\\ntext: Constitucion Española\\nlibro:SIN LIBRO\\ntitulo:TÍTULO I\\ncapitulo:CAPÍTULO TERCERO\\nseccion:SIN SECCION\\nArtículo 48.  \\nLos poderes públicos promoverán las condiciones para la participación libre y eficaz de \\nla juventud en el desarrollo político, social, económico y cultural.\\n---------------------------------------------\\nranking: 3\\npuntuacion: 0.62\\ntext: Constitucion Española\\nlibro:SIN LIBRO\\ntitulo:TÍTULO PRELIMINAR\\ncapitulo:SIN CAPÍTULO\\nseccion:SIN SECCION\\nArtículo 1.  \\n1. España se constituye en un Estado social y democrático de Derecho, que propugna \\ncomo valores superiores de su ordenamiento jurídico la libertad, la justicia, la igualdad y el \\npluralismo político.\\n2. La soberanía nacional reside en el pueblo español, del que emanan los poderes del \\nEstado.\\n3. La forma política del Estado español es la Monarquía parlamentaria.\\n---------------------------------------------\\nranking: 2\\npuntuacion: 0.92\\ntext: Constitucion Española\\nlibro:SIN LIBRO\\ntitulo:TÍTULO I\\ncapitulo:CAPÍTULO TERCERO\\nseccion:SIN SECCION\\nArtículo 44.  \\n1. Los poderes públicos promoverán y tutelarán el acceso a la cultura, a la que todos \\ntienen derecho.\\n2. Los poderes públicos promoverán la ciencia y la investigación científica y técnica en \\nbeneficio del interés general.\\n---------------------------------------------\\nranking: 1\\npuntuacion: 0.99\\ntext: Constitucion Española\\nlibro:SIN LIBRO\\ntitulo:TÍTULO I\\ncapitulo:CAPÍTULO TERCERO\\nseccion:SIN SECCION\\nArtículo 49.  \\n1. Las personas con discapacidad ejercen los derechos previstos en este Título en \\ncondiciones de libertad e igualdad reales y efectivas. Se regulará por ley la protección \\nespecial que sea necesaria para dicho ejercicio.\\n2. Los poderes públicos impulsarán las políticas que garanticen la plena autonomía \\npersonal y la inclusión social de las personas con discapacidad, en entornos universalmente \\naccesibles. Asimismo, fomentarán la participación de sus organizaciones, en los términos \\nque la ley establezca. Se atenderán particularmente las necesidades específicas de las \\nmujeres y los menores con discapacidad.\\n---------------------------------------------', name='consult_legal_database', id='42a3d1ff-e2a6-4205-bed7-cc8e974f369a', tool_call_id='9fb54d4b-5364-40a4-8789-22e0e80104da'), AIMessage(content='El Artículo 49 de la Constitución Española dice:\\n\\n\"1. Las personas con discapacidad ejercen los derechos previstos en este Título en condiciones de libertad e igualdad reales y efectivas. Se regulará por ley la protección especial que sea necesaria para dicho ejercicio.\\n\\n2. Los poderes públicos impulsarán las políticas que garanticen la plena autonomía personal y la inclusión social de las personas con discapacidad, en entornos universalmente accesibles. Asimismo, fomentarán la participación de sus organizaciones, en los términos que la ley establezca. Se atenderán particularmente las necesidades específicas de las mujeres y los menores con discapacidad.\"', additional_kwargs={}, response_metadata={'prompt_feedback': {'block_reason': 0, 'safety_ratings': []}, 'finish_reason': 'STOP', 'safety_ratings': []}, id='run-3110b684-4cbf-48a7-ad76-b121adf120b4-0', usage_metadata={'input_tokens': 1463, 'output_tokens': 124, 'total_tokens': 1587, 'input_token_details': {'cache_read': 0}}), HumanMessage(content='me podrias ahora dar el mismo numero de articulo en el codigo civil y en el codigo penal?', additional_kwargs={}, response_metadata={}, id='1207a68c-7335-454f-8d02-b17b71ad3da5'), AIMessage(content='', additional_kwargs={'function_call': {'name': 'consult_legal_database', 'arguments': '{\"filter\": {\"origen\": {\"$in\": [\"C\\\\u00f3digo Penal\"]}}, \"query\": \"articulo 49 codigo penal\", \"alpha\": 0.1}'}}, response_metadata={'prompt_feedback': {'block_reason': 0, 'safety_ratings': []}, 'finish_reason': 'STOP', 'safety_ratings': []}, id='run-56c62f34-c354-447d-bed4-6b11de9320fe-0', tool_calls=[{'name': 'consult_legal_database', 'args': {'filter': {'origen': {'$in': ['Código Civil']}}, 'query': 'articulo 49 codigo civil', 'alpha': 0.1}, 'id': '2cf56be2-524a-4525-a918-641868d6fbc3', 'type': 'tool_call'}, {'name': 'consult_legal_database', 'args': {'filter': {'origen': {'$in': ['Código Penal']}}, 'query': 'articulo 49 codigo penal', 'alpha': 0.1}, 'id': '076ebcb1-a134-41cd-88ba-13d106c42d0b', 'type': 'tool_call'}], usage_metadata={'input_tokens': 1607, 'output_tokens': 38, 'total_tokens': 1645, 'input_token_details': {'cache_read': 0}}), ToolMessage(content='Información de la base de datos sobre la query del usuario:\\nranking: 1\\npuntuacion: 0.99\\ntext: Código Civil\\nlibro:LIBRO PRIMERO\\ntitulo:TÍTULO IV\\ncapitulo:CAPÍTULO III\\nseccion:SECCIÓN 1\\nArtículo 49.  \\nCualquier español podrá contraer matrimonio dentro o fuera de España:\\n1.º En la forma regulada en este Código.\\n2.º En la forma religiosa legalmente prevista.\\nTambién podrá contraer matrimonio fuera de España con arreglo a la forma establecida \\npor la ley del lugar de celebración.\\n---------------------------------------------', name='consult_legal_database', id='9a70a517-d4e8-4c14-9f58-5b7ede9d9b5f', tool_call_id='2cf56be2-524a-4525-a918-641868d6fbc3'), ToolMessage(content='No hay información relevante a la query del usuario en la base de datos', name='consult_legal_database', id='56d9c49e-e33b-45cd-b241-f0c938382369', tool_call_id='076ebcb1-a134-41cd-88ba-13d106c42d0b'), AIMessage(content='El artículo 49 del Código Civil dice: \"Cualquier español podrá contraer matrimonio dentro o fuera de España: 1.º En la forma regulada en este Código. 2.º En la forma religiosa legalmente prevista. También podrá contraer matrimonio fuera de España con arreglo a la forma establecida por la ley del lugar de celebración.\"\\n\\nNo encontré información sobre el artículo 49 en el Código Penal.', additional_kwargs={}, response_metadata={'prompt_feedback': {'block_reason': 0, 'safety_ratings': []}, 'finish_reason': 'STOP', 'safety_ratings': []}, id='run-753bb809-13af-4da5-8530-5adeb539cb2c-0', usage_metadata={'input_tokens': 1806, 'output_tokens': 88, 'total_tokens': 1894, 'input_token_details': {'cache_read': 0}})]}, next=(), config={'configurable': {'thread_id': '1', 'checkpoint_ns': '', 'checkpoint_id': '1effc410-35ea-6b58-8011-c6a5ec399bde'}}, metadata={'source': 'loop', 'writes': {'conversation': {'messages': AIMessage(content='El artículo 49 del Código Civil dice: \"Cualquier español podrá contraer matrimonio dentro o fuera de España: 1.º En la forma regulada en este Código. 2.º En la forma religiosa legalmente prevista. También podrá contraer matrimonio fuera de España con arreglo a la forma establecida por la ley del lugar de celebración.\"\\n\\nNo encontré información sobre el artículo 49 en el Código Penal.', additional_kwargs={}, response_metadata={'prompt_feedback': {'block_reason': 0, 'safety_ratings': []}, 'finish_reason': 'STOP', 'safety_ratings': []}, id='run-753bb809-13af-4da5-8530-5adeb539cb2c-0', usage_metadata={'input_tokens': 1806, 'output_tokens': 88, 'total_tokens': 1894, 'input_token_details': {'cache_read': 0}})}}, 'thread_id': '1', 'step': 17, 'parents': {}}, created_at='2025-03-08T17:16:03.138440+00:00', parent_config={'configurable': {'thread_id': '1', 'checkpoint_ns': '', 'checkpoint_id': '1effc410-2c93-6ded-8010-948e3bb36d98'}}, tasks=())"
      ]
     },
     "execution_count": 61,
     "metadata": {},
     "output_type": "execute_result"
    }
   ],
   "source": [
    "graph_state"
   ]
  }
 ],
 "metadata": {
  "kernelspec": {
   "display_name": "personal",
   "language": "python",
   "name": "python3"
  },
  "language_info": {
   "codemirror_mode": {
    "name": "ipython",
    "version": 3
   },
   "file_extension": ".py",
   "mimetype": "text/x-python",
   "name": "python",
   "nbconvert_exporter": "python",
   "pygments_lexer": "ipython3",
   "version": "3.11.11"
  }
 },
 "nbformat": 4,
 "nbformat_minor": 2
}
